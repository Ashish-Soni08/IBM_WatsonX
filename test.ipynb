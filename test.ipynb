{
 "cells": [
  {
   "cell_type": "code",
   "execution_count": 1,
   "metadata": {},
   "outputs": [],
   "source": [
    "import os\n",
    "import logging\n",
    "import random\n",
    "from typing import Any"
   ]
  },
  {
   "cell_type": "code",
   "execution_count": 2,
   "metadata": {},
   "outputs": [],
   "source": [
    "from dotenv import dotenv_values\n",
    "from datasets import Dataset, load_dataset\n",
    "from llama_index.packs.raft_dataset import RAFTDatasetPack\n",
    "import openai"
   ]
  },
  {
   "cell_type": "code",
   "execution_count": 3,
   "metadata": {},
   "outputs": [],
   "source": [
    "config = dotenv_values(\"./backend/.env\") "
   ]
  },
  {
   "cell_type": "code",
   "execution_count": 4,
   "metadata": {},
   "outputs": [],
   "source": [
    "logging.basicConfig(level=logging.INFO)"
   ]
  },
  {
   "cell_type": "code",
   "execution_count": 5,
   "metadata": {},
   "outputs": [],
   "source": [
    "openai_client = openai.OpenAI(\n",
    "    api_key=config[\"OPENAI_API_KEY\"],\n",
    "    organization=config[\"ORGANIZATION_ID\"],\n",
    "    project=config[\"PROJECT_ID\"],\n",
    ")"
   ]
  },
  {
   "cell_type": "code",
   "execution_count": 6,
   "metadata": {},
   "outputs": [],
   "source": [
    "from llama_index.embeddings.openai import OpenAIEmbedding\n",
    "from llama_index.llms.openai import OpenAI\n",
    "\n",
    "LLM = OpenAI(model=\"gpt-4o-2024-05-13\", api_key=config[\"OPENAI_API_KEY\"])\n",
    "\n",
    "EMBED_MODEL = OpenAIEmbedding(model=\"text-embedding-3-small\", api_key=config[\"OPENAI_API_KEY\"]) "
   ]
  },
  {
   "cell_type": "markdown",
   "metadata": {},
   "source": [
    "### Test with a sample pdf"
   ]
  },
  {
   "cell_type": "code",
   "execution_count": 6,
   "metadata": {},
   "outputs": [],
   "source": [
    "sample_raft_dataset = RAFTDatasetPack(file_path=\"./data/sample.pdf\",\n",
    "                                      llm=LLM,\n",
    "                                      embed_model=EMBED_MODEL,\n",
    "                                      num_questions_per_chunk=5,\n",
    "                                      num_distract_docs=3,\n",
    "                                      chunk_size=400\n",
    "                                      )"
   ]
  },
  {
   "cell_type": "code",
   "execution_count": null,
   "metadata": {},
   "outputs": [],
   "source": [
    "sample_dataset = sample_raft_dataset.run()"
   ]
  },
  {
   "cell_type": "code",
   "execution_count": null,
   "metadata": {},
   "outputs": [],
   "source": [
    "output_path = \"./data/sample_pdf_dataset/sample\"\n",
    "\n",
    "sample_dataset.to_json(output_path + \".jsonl\")"
   ]
  },
  {
   "cell_type": "markdown",
   "metadata": {},
   "source": [
    "### PowerBI DAX PDF"
   ]
  },
  {
   "cell_type": "code",
   "execution_count": 7,
   "metadata": {},
   "outputs": [],
   "source": [
    "# You can use any llama-hub loader to get documents!\n",
    "dax_raft_dataset = RAFTDatasetPack(file_path=\"./data/DAX/14_power-bi-dax.pdf\",\n",
    "                                      llm=LLM,\n",
    "                                      embed_model=EMBED_MODEL,\n",
    "                                      num_questions_per_chunk=5,\n",
    "                                      num_distract_docs=3,\n",
    "                                      chunk_size=1024\n",
    "                                      )"
   ]
  },
  {
   "cell_type": "code",
   "execution_count": null,
   "metadata": {},
   "outputs": [],
   "source": [
    "dax_dataset = dax_raft_dataset.run()"
   ]
  },
  {
   "cell_type": "code",
   "execution_count": null,
   "metadata": {},
   "outputs": [],
   "source": [
    "output_path = \"./data/dax_pdf_dataset/dax\"\n",
    "\n",
    "dax_dataset.to_json(output_path + \".jsonl\")"
   ]
  },
  {
   "cell_type": "markdown",
   "metadata": {},
   "source": [
    "## Create "
   ]
  },
  {
   "cell_type": "markdown",
   "metadata": {},
   "source": []
  },
  {
   "cell_type": "markdown",
   "metadata": {},
   "source": []
  },
  {
   "cell_type": "markdown",
   "metadata": {},
   "source": []
  }
 ],
 "metadata": {
  "kernelspec": {
   "display_name": ".powerbi-ai-rag",
   "language": "python",
   "name": "python3"
  },
  "language_info": {
   "codemirror_mode": {
    "name": "ipython",
    "version": 3
   },
   "file_extension": ".py",
   "mimetype": "text/x-python",
   "name": "python",
   "nbconvert_exporter": "python",
   "pygments_lexer": "ipython3",
   "version": "3.12.1"
  }
 },
 "nbformat": 4,
 "nbformat_minor": 2
}
