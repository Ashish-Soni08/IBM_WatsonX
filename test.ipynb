{
 "cells": [
  {
   "cell_type": "code",
   "execution_count": 1,
   "metadata": {},
   "outputs": [],
   "source": [
    "import os"
   ]
  },
  {
   "cell_type": "code",
   "execution_count": 2,
   "metadata": {},
   "outputs": [
    {
     "name": "stdout",
     "output_type": "stream",
     "text": [
      "Processing /workspaces/Microsoft_PowerBI_Agent/data/raft_dataset_pack\n",
      "  Installing build dependencies: started\n",
      "  Installing build dependencies: finished with status 'done'\n",
      "  Getting requirements to build wheel: started\n",
      "  Getting requirements to build wheel: finished with status 'done'\n",
      "  Preparing metadata (pyproject.toml): started\n",
      "  Preparing metadata (pyproject.toml): finished with status 'done'\n",
      "Requirement already satisfied: datasets<3.0.0,>=2.18.0 in /workspaces/Microsoft_PowerBI_Agent/.powerbi-ai-rag/lib/python3.12/site-packages (from llama-index-packs-raft-dataset==0.2.0) (2.21.0)\n",
      "Requirement already satisfied: llama-index-core<0.12.0,>=0.11.0 in /workspaces/Microsoft_PowerBI_Agent/.powerbi-ai-rag/lib/python3.12/site-packages (from llama-index-packs-raft-dataset==0.2.0) (0.11.9)\n",
      "Requirement already satisfied: llama-index-embeddings-openai<0.3.0,>=0.2.0 in /workspaces/Microsoft_PowerBI_Agent/.powerbi-ai-rag/lib/python3.12/site-packages (from llama-index-packs-raft-dataset==0.2.0) (0.2.5)\n",
      "Requirement already satisfied: llama-index-llms-openai<0.3.0,>=0.2.0 in /workspaces/Microsoft_PowerBI_Agent/.powerbi-ai-rag/lib/python3.12/site-packages (from llama-index-packs-raft-dataset==0.2.0) (0.2.6)\n",
      "Requirement already satisfied: filelock in /workspaces/Microsoft_PowerBI_Agent/.powerbi-ai-rag/lib/python3.12/site-packages (from datasets<3.0.0,>=2.18.0->llama-index-packs-raft-dataset==0.2.0) (3.16.0)\n",
      "Requirement already satisfied: numpy>=1.17 in /workspaces/Microsoft_PowerBI_Agent/.powerbi-ai-rag/lib/python3.12/site-packages (from datasets<3.0.0,>=2.18.0->llama-index-packs-raft-dataset==0.2.0) (1.26.4)\n",
      "Requirement already satisfied: pyarrow>=15.0.0 in /workspaces/Microsoft_PowerBI_Agent/.powerbi-ai-rag/lib/python3.12/site-packages (from datasets<3.0.0,>=2.18.0->llama-index-packs-raft-dataset==0.2.0) (17.0.0)\n",
      "Requirement already satisfied: dill<0.3.9,>=0.3.0 in /workspaces/Microsoft_PowerBI_Agent/.powerbi-ai-rag/lib/python3.12/site-packages (from datasets<3.0.0,>=2.18.0->llama-index-packs-raft-dataset==0.2.0) (0.3.8)\n",
      "Requirement already satisfied: pandas in /workspaces/Microsoft_PowerBI_Agent/.powerbi-ai-rag/lib/python3.12/site-packages (from datasets<3.0.0,>=2.18.0->llama-index-packs-raft-dataset==0.2.0) (2.2.2)\n",
      "Requirement already satisfied: requests>=2.32.2 in /workspaces/Microsoft_PowerBI_Agent/.powerbi-ai-rag/lib/python3.12/site-packages (from datasets<3.0.0,>=2.18.0->llama-index-packs-raft-dataset==0.2.0) (2.32.3)\n",
      "Requirement already satisfied: tqdm>=4.66.3 in /workspaces/Microsoft_PowerBI_Agent/.powerbi-ai-rag/lib/python3.12/site-packages (from datasets<3.0.0,>=2.18.0->llama-index-packs-raft-dataset==0.2.0) (4.66.5)\n",
      "Requirement already satisfied: xxhash in /workspaces/Microsoft_PowerBI_Agent/.powerbi-ai-rag/lib/python3.12/site-packages (from datasets<3.0.0,>=2.18.0->llama-index-packs-raft-dataset==0.2.0) (3.5.0)\n",
      "Requirement already satisfied: multiprocess in /workspaces/Microsoft_PowerBI_Agent/.powerbi-ai-rag/lib/python3.12/site-packages (from datasets<3.0.0,>=2.18.0->llama-index-packs-raft-dataset==0.2.0) (0.70.16)\n",
      "Requirement already satisfied: fsspec[http]<=2024.6.1,>=2023.1.0 in /workspaces/Microsoft_PowerBI_Agent/.powerbi-ai-rag/lib/python3.12/site-packages (from datasets<3.0.0,>=2.18.0->llama-index-packs-raft-dataset==0.2.0) (2024.6.1)\n",
      "Requirement already satisfied: aiohttp in /workspaces/Microsoft_PowerBI_Agent/.powerbi-ai-rag/lib/python3.12/site-packages (from datasets<3.0.0,>=2.18.0->llama-index-packs-raft-dataset==0.2.0) (3.10.5)\n",
      "Requirement already satisfied: huggingface-hub>=0.21.2 in /workspaces/Microsoft_PowerBI_Agent/.powerbi-ai-rag/lib/python3.12/site-packages (from datasets<3.0.0,>=2.18.0->llama-index-packs-raft-dataset==0.2.0) (0.24.7)\n",
      "Requirement already satisfied: packaging in /workspaces/Microsoft_PowerBI_Agent/.powerbi-ai-rag/lib/python3.12/site-packages (from datasets<3.0.0,>=2.18.0->llama-index-packs-raft-dataset==0.2.0) (24.1)\n",
      "Requirement already satisfied: pyyaml>=5.1 in /workspaces/Microsoft_PowerBI_Agent/.powerbi-ai-rag/lib/python3.12/site-packages (from datasets<3.0.0,>=2.18.0->llama-index-packs-raft-dataset==0.2.0) (6.0.2)\n",
      "Requirement already satisfied: SQLAlchemy[asyncio]>=1.4.49 in /workspaces/Microsoft_PowerBI_Agent/.powerbi-ai-rag/lib/python3.12/site-packages (from llama-index-core<0.12.0,>=0.11.0->llama-index-packs-raft-dataset==0.2.0) (2.0.34)\n",
      "Requirement already satisfied: dataclasses-json in /workspaces/Microsoft_PowerBI_Agent/.powerbi-ai-rag/lib/python3.12/site-packages (from llama-index-core<0.12.0,>=0.11.0->llama-index-packs-raft-dataset==0.2.0) (0.6.7)\n",
      "Requirement already satisfied: deprecated>=1.2.9.3 in /workspaces/Microsoft_PowerBI_Agent/.powerbi-ai-rag/lib/python3.12/site-packages (from llama-index-core<0.12.0,>=0.11.0->llama-index-packs-raft-dataset==0.2.0) (1.2.14)\n",
      "Requirement already satisfied: dirtyjson<2.0.0,>=1.0.8 in /workspaces/Microsoft_PowerBI_Agent/.powerbi-ai-rag/lib/python3.12/site-packages (from llama-index-core<0.12.0,>=0.11.0->llama-index-packs-raft-dataset==0.2.0) (1.0.8)\n",
      "Requirement already satisfied: httpx in /workspaces/Microsoft_PowerBI_Agent/.powerbi-ai-rag/lib/python3.12/site-packages (from llama-index-core<0.12.0,>=0.11.0->llama-index-packs-raft-dataset==0.2.0) (0.27.2)\n",
      "Requirement already satisfied: nest-asyncio<2.0.0,>=1.5.8 in /workspaces/Microsoft_PowerBI_Agent/.powerbi-ai-rag/lib/python3.12/site-packages (from llama-index-core<0.12.0,>=0.11.0->llama-index-packs-raft-dataset==0.2.0) (1.6.0)\n",
      "Requirement already satisfied: networkx>=3.0 in /workspaces/Microsoft_PowerBI_Agent/.powerbi-ai-rag/lib/python3.12/site-packages (from llama-index-core<0.12.0,>=0.11.0->llama-index-packs-raft-dataset==0.2.0) (3.3)\n",
      "Requirement already satisfied: nltk>3.8.1 in /workspaces/Microsoft_PowerBI_Agent/.powerbi-ai-rag/lib/python3.12/site-packages (from llama-index-core<0.12.0,>=0.11.0->llama-index-packs-raft-dataset==0.2.0) (3.9.1)\n",
      "Requirement already satisfied: pillow>=9.0.0 in /workspaces/Microsoft_PowerBI_Agent/.powerbi-ai-rag/lib/python3.12/site-packages (from llama-index-core<0.12.0,>=0.11.0->llama-index-packs-raft-dataset==0.2.0) (10.4.0)\n",
      "Requirement already satisfied: pydantic<3.0.0,>=2.7.0 in /workspaces/Microsoft_PowerBI_Agent/.powerbi-ai-rag/lib/python3.12/site-packages (from llama-index-core<0.12.0,>=0.11.0->llama-index-packs-raft-dataset==0.2.0) (2.9.1)\n",
      "Requirement already satisfied: tenacity!=8.4.0,<9.0.0,>=8.2.0 in /workspaces/Microsoft_PowerBI_Agent/.powerbi-ai-rag/lib/python3.12/site-packages (from llama-index-core<0.12.0,>=0.11.0->llama-index-packs-raft-dataset==0.2.0) (8.5.0)\n",
      "Requirement already satisfied: tiktoken>=0.3.3 in /workspaces/Microsoft_PowerBI_Agent/.powerbi-ai-rag/lib/python3.12/site-packages (from llama-index-core<0.12.0,>=0.11.0->llama-index-packs-raft-dataset==0.2.0) (0.7.0)\n",
      "Requirement already satisfied: typing-extensions>=4.5.0 in /workspaces/Microsoft_PowerBI_Agent/.powerbi-ai-rag/lib/python3.12/site-packages (from llama-index-core<0.12.0,>=0.11.0->llama-index-packs-raft-dataset==0.2.0) (4.12.2)\n",
      "Requirement already satisfied: typing-inspect>=0.8.0 in /workspaces/Microsoft_PowerBI_Agent/.powerbi-ai-rag/lib/python3.12/site-packages (from llama-index-core<0.12.0,>=0.11.0->llama-index-packs-raft-dataset==0.2.0) (0.9.0)\n",
      "Requirement already satisfied: wrapt in /workspaces/Microsoft_PowerBI_Agent/.powerbi-ai-rag/lib/python3.12/site-packages (from llama-index-core<0.12.0,>=0.11.0->llama-index-packs-raft-dataset==0.2.0) (1.16.0)\n",
      "Requirement already satisfied: openai>=1.1.0 in /workspaces/Microsoft_PowerBI_Agent/.powerbi-ai-rag/lib/python3.12/site-packages (from llama-index-embeddings-openai<0.3.0,>=0.2.0->llama-index-packs-raft-dataset==0.2.0) (1.45.0)\n",
      "Requirement already satisfied: llama-index-agent-openai<0.4.0,>=0.3.1 in /workspaces/Microsoft_PowerBI_Agent/.powerbi-ai-rag/lib/python3.12/site-packages (from llama-index-llms-openai<0.3.0,>=0.2.0->llama-index-packs-raft-dataset==0.2.0) (0.3.1)\n",
      "Requirement already satisfied: aiohappyeyeballs>=2.3.0 in /workspaces/Microsoft_PowerBI_Agent/.powerbi-ai-rag/lib/python3.12/site-packages (from aiohttp->datasets<3.0.0,>=2.18.0->llama-index-packs-raft-dataset==0.2.0) (2.4.0)\n",
      "Requirement already satisfied: aiosignal>=1.1.2 in /workspaces/Microsoft_PowerBI_Agent/.powerbi-ai-rag/lib/python3.12/site-packages (from aiohttp->datasets<3.0.0,>=2.18.0->llama-index-packs-raft-dataset==0.2.0) (1.3.1)\n",
      "Requirement already satisfied: attrs>=17.3.0 in /workspaces/Microsoft_PowerBI_Agent/.powerbi-ai-rag/lib/python3.12/site-packages (from aiohttp->datasets<3.0.0,>=2.18.0->llama-index-packs-raft-dataset==0.2.0) (24.2.0)\n",
      "Requirement already satisfied: frozenlist>=1.1.1 in /workspaces/Microsoft_PowerBI_Agent/.powerbi-ai-rag/lib/python3.12/site-packages (from aiohttp->datasets<3.0.0,>=2.18.0->llama-index-packs-raft-dataset==0.2.0) (1.4.1)\n",
      "Requirement already satisfied: multidict<7.0,>=4.5 in /workspaces/Microsoft_PowerBI_Agent/.powerbi-ai-rag/lib/python3.12/site-packages (from aiohttp->datasets<3.0.0,>=2.18.0->llama-index-packs-raft-dataset==0.2.0) (6.1.0)\n",
      "Requirement already satisfied: yarl<2.0,>=1.0 in /workspaces/Microsoft_PowerBI_Agent/.powerbi-ai-rag/lib/python3.12/site-packages (from aiohttp->datasets<3.0.0,>=2.18.0->llama-index-packs-raft-dataset==0.2.0) (1.11.1)\n",
      "Requirement already satisfied: click in /workspaces/Microsoft_PowerBI_Agent/.powerbi-ai-rag/lib/python3.12/site-packages (from nltk>3.8.1->llama-index-core<0.12.0,>=0.11.0->llama-index-packs-raft-dataset==0.2.0) (8.1.7)\n",
      "Requirement already satisfied: joblib in /workspaces/Microsoft_PowerBI_Agent/.powerbi-ai-rag/lib/python3.12/site-packages (from nltk>3.8.1->llama-index-core<0.12.0,>=0.11.0->llama-index-packs-raft-dataset==0.2.0) (1.4.2)\n",
      "Requirement already satisfied: regex>=2021.8.3 in /workspaces/Microsoft_PowerBI_Agent/.powerbi-ai-rag/lib/python3.12/site-packages (from nltk>3.8.1->llama-index-core<0.12.0,>=0.11.0->llama-index-packs-raft-dataset==0.2.0) (2024.9.11)\n",
      "Requirement already satisfied: anyio<5,>=3.5.0 in /workspaces/Microsoft_PowerBI_Agent/.powerbi-ai-rag/lib/python3.12/site-packages (from openai>=1.1.0->llama-index-embeddings-openai<0.3.0,>=0.2.0->llama-index-packs-raft-dataset==0.2.0) (4.4.0)\n",
      "Requirement already satisfied: distro<2,>=1.7.0 in /workspaces/Microsoft_PowerBI_Agent/.powerbi-ai-rag/lib/python3.12/site-packages (from openai>=1.1.0->llama-index-embeddings-openai<0.3.0,>=0.2.0->llama-index-packs-raft-dataset==0.2.0) (1.9.0)\n",
      "Requirement already satisfied: jiter<1,>=0.4.0 in /workspaces/Microsoft_PowerBI_Agent/.powerbi-ai-rag/lib/python3.12/site-packages (from openai>=1.1.0->llama-index-embeddings-openai<0.3.0,>=0.2.0->llama-index-packs-raft-dataset==0.2.0) (0.5.0)\n",
      "Requirement already satisfied: sniffio in /workspaces/Microsoft_PowerBI_Agent/.powerbi-ai-rag/lib/python3.12/site-packages (from openai>=1.1.0->llama-index-embeddings-openai<0.3.0,>=0.2.0->llama-index-packs-raft-dataset==0.2.0) (1.3.1)\n",
      "Requirement already satisfied: certifi in /workspaces/Microsoft_PowerBI_Agent/.powerbi-ai-rag/lib/python3.12/site-packages (from httpx->llama-index-core<0.12.0,>=0.11.0->llama-index-packs-raft-dataset==0.2.0) (2024.8.30)\n",
      "Requirement already satisfied: httpcore==1.* in /workspaces/Microsoft_PowerBI_Agent/.powerbi-ai-rag/lib/python3.12/site-packages (from httpx->llama-index-core<0.12.0,>=0.11.0->llama-index-packs-raft-dataset==0.2.0) (1.0.5)\n",
      "Requirement already satisfied: idna in /workspaces/Microsoft_PowerBI_Agent/.powerbi-ai-rag/lib/python3.12/site-packages (from httpx->llama-index-core<0.12.0,>=0.11.0->llama-index-packs-raft-dataset==0.2.0) (3.8)\n",
      "Requirement already satisfied: h11<0.15,>=0.13 in /workspaces/Microsoft_PowerBI_Agent/.powerbi-ai-rag/lib/python3.12/site-packages (from httpcore==1.*->httpx->llama-index-core<0.12.0,>=0.11.0->llama-index-packs-raft-dataset==0.2.0) (0.14.0)\n",
      "Requirement already satisfied: annotated-types>=0.6.0 in /workspaces/Microsoft_PowerBI_Agent/.powerbi-ai-rag/lib/python3.12/site-packages (from pydantic<3.0.0,>=2.7.0->llama-index-core<0.12.0,>=0.11.0->llama-index-packs-raft-dataset==0.2.0) (0.7.0)\n",
      "Requirement already satisfied: pydantic-core==2.23.3 in /workspaces/Microsoft_PowerBI_Agent/.powerbi-ai-rag/lib/python3.12/site-packages (from pydantic<3.0.0,>=2.7.0->llama-index-core<0.12.0,>=0.11.0->llama-index-packs-raft-dataset==0.2.0) (2.23.3)\n",
      "Requirement already satisfied: charset-normalizer<4,>=2 in /workspaces/Microsoft_PowerBI_Agent/.powerbi-ai-rag/lib/python3.12/site-packages (from requests>=2.32.2->datasets<3.0.0,>=2.18.0->llama-index-packs-raft-dataset==0.2.0) (3.3.2)\n",
      "Requirement already satisfied: urllib3<3,>=1.21.1 in /workspaces/Microsoft_PowerBI_Agent/.powerbi-ai-rag/lib/python3.12/site-packages (from requests>=2.32.2->datasets<3.0.0,>=2.18.0->llama-index-packs-raft-dataset==0.2.0) (2.2.3)\n",
      "Requirement already satisfied: greenlet!=0.4.17 in /workspaces/Microsoft_PowerBI_Agent/.powerbi-ai-rag/lib/python3.12/site-packages (from SQLAlchemy[asyncio]>=1.4.49->llama-index-core<0.12.0,>=0.11.0->llama-index-packs-raft-dataset==0.2.0) (3.1.0)\n",
      "Requirement already satisfied: mypy-extensions>=0.3.0 in /workspaces/Microsoft_PowerBI_Agent/.powerbi-ai-rag/lib/python3.12/site-packages (from typing-inspect>=0.8.0->llama-index-core<0.12.0,>=0.11.0->llama-index-packs-raft-dataset==0.2.0) (1.0.0)\n",
      "Requirement already satisfied: marshmallow<4.0.0,>=3.18.0 in /workspaces/Microsoft_PowerBI_Agent/.powerbi-ai-rag/lib/python3.12/site-packages (from dataclasses-json->llama-index-core<0.12.0,>=0.11.0->llama-index-packs-raft-dataset==0.2.0) (3.22.0)\n",
      "Requirement already satisfied: python-dateutil>=2.8.2 in /workspaces/Microsoft_PowerBI_Agent/.powerbi-ai-rag/lib/python3.12/site-packages (from pandas->datasets<3.0.0,>=2.18.0->llama-index-packs-raft-dataset==0.2.0) (2.9.0.post0)\n",
      "Requirement already satisfied: pytz>=2020.1 in /workspaces/Microsoft_PowerBI_Agent/.powerbi-ai-rag/lib/python3.12/site-packages (from pandas->datasets<3.0.0,>=2.18.0->llama-index-packs-raft-dataset==0.2.0) (2024.2)\n",
      "Requirement already satisfied: tzdata>=2022.7 in /workspaces/Microsoft_PowerBI_Agent/.powerbi-ai-rag/lib/python3.12/site-packages (from pandas->datasets<3.0.0,>=2.18.0->llama-index-packs-raft-dataset==0.2.0) (2024.1)\n",
      "Requirement already satisfied: six>=1.5 in /workspaces/Microsoft_PowerBI_Agent/.powerbi-ai-rag/lib/python3.12/site-packages (from python-dateutil>=2.8.2->pandas->datasets<3.0.0,>=2.18.0->llama-index-packs-raft-dataset==0.2.0) (1.16.0)\n",
      "Building wheels for collected packages: llama-index-packs-raft-dataset\n",
      "  Building wheel for llama-index-packs-raft-dataset (pyproject.toml): started\n",
      "  Building wheel for llama-index-packs-raft-dataset (pyproject.toml): finished with status 'done'\n",
      "  Created wheel for llama-index-packs-raft-dataset: filename=llama_index_packs_raft_dataset-0.2.0-py3-none-any.whl size=4656 sha256=92627753bf13a8c6894543d14483e5456fdef0cb5962c1687359b788cde1ae47\n",
      "  Stored in directory: /tmp/pip-ephem-wheel-cache-qg9bzi35/wheels/60/6f/37/652562a9f9c71bb07b181f5918caabe65292db087ddc033ad3\n",
      "Successfully built llama-index-packs-raft-dataset\n",
      "Installing collected packages: llama-index-packs-raft-dataset\n",
      "  Attempting uninstall: llama-index-packs-raft-dataset\n",
      "    Found existing installation: llama-index-packs-raft-dataset 0.2.0\n",
      "    Uninstalling llama-index-packs-raft-dataset-0.2.0:\n",
      "      Successfully uninstalled llama-index-packs-raft-dataset-0.2.0\n",
      "Successfully installed llama-index-packs-raft-dataset-0.2.0\n"
     ]
    },
    {
     "name": "stderr",
     "output_type": "stream",
     "text": [
      "\n",
      "\u001b[1m[\u001b[0m\u001b[34;49mnotice\u001b[0m\u001b[1;39;49m]\u001b[0m\u001b[39;49m A new release of pip is available: \u001b[0m\u001b[31;49m23.2.1\u001b[0m\u001b[39;49m -> \u001b[0m\u001b[32;49m24.2\u001b[0m\n",
      "\u001b[1m[\u001b[0m\u001b[34;49mnotice\u001b[0m\u001b[1;39;49m]\u001b[0m\u001b[39;49m To update, run: \u001b[0m\u001b[32;49mpip install --upgrade pip\u001b[0m\n"
     ]
    }
   ],
   "source": [
    "from llama_index.core.llama_pack import download_llama_pack\n",
    "\n",
    "# download and install dependencies\n",
    "RAFTDatasetPack = download_llama_pack(\"RAFTDatasetPack\", \"./data/raft_dataset_pack\")"
   ]
  },
  {
   "cell_type": "code",
   "execution_count": null,
   "metadata": {},
   "outputs": [],
   "source": [
    "# You can use any llama-hub loader to get documents!\n",
    "raft_dataset = RAFTDatasetPack(\"./data/DAX/14_power-bi-dax.pdf\")"
   ]
  },
  {
   "cell_type": "code",
   "execution_count": null,
   "metadata": {},
   "outputs": [],
   "source": [
    "dataset = raft_dataset.run()"
   ]
  }
 ],
 "metadata": {
  "kernelspec": {
   "display_name": ".powerbi-ai-rag",
   "language": "python",
   "name": "python3"
  },
  "language_info": {
   "codemirror_mode": {
    "name": "ipython",
    "version": 3
   },
   "file_extension": ".py",
   "mimetype": "text/x-python",
   "name": "python",
   "nbconvert_exporter": "python",
   "pygments_lexer": "ipython3",
   "version": "3.12.1"
  }
 },
 "nbformat": 4,
 "nbformat_minor": 2
}
